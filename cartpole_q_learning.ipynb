{
 "cells": [
  {
   "cell_type": "code",
   "execution_count": 1,
   "metadata": {},
   "outputs": [],
   "source": [
    "import gymnasium as gym\n",
    "import numpy as np\n",
    "import matplotlib.pyplot as plt"
   ]
  },
  {
   "cell_type": "code",
   "execution_count": 2,
   "metadata": {},
   "outputs": [
    {
     "name": "stdout",
     "output_type": "stream",
     "text": [
      "[-4.8000002e+00 -3.4028235e+38 -4.1887903e-01 -3.4028235e+38] [4.8000002e+00 3.4028235e+38 4.1887903e-01 3.4028235e+38]\n"
     ]
    }
   ],
   "source": [
    "env = gym.make('CartPole-v1')\n",
    "print(env.observation_space.low, env.observation_space.high)"
   ]
  },
  {
   "cell_type": "code",
   "execution_count": 3,
   "metadata": {},
   "outputs": [
    {
     "name": "stdout",
     "output_type": "stream",
     "text": [
      "[-2.4    -4.     -0.2099 -4.    ] [2.4    4.     0.2099 4.    ]\n"
     ]
    }
   ],
   "source": [
    "max_obs_values = np.array([2.4, 4, 0.2099 , 4])\n",
    "min_obs_values = np.array([-2.4, -4, -0.2099, -4])\n",
    "print(min_obs_values, max_obs_values)"
   ]
  },
  {
   "cell_type": "code",
   "execution_count": 4,
   "metadata": {},
   "outputs": [],
   "source": [
    "DISCRETE_OBS_SPACE_SIZE = [10]* len(max_obs_values) # these are the what the max values will corresponds to\n",
    "discrete_obs_space_step_size = (max_obs_values - min_obs_values) / DISCRETE_OBS_SPACE_SIZE\n",
    "\n",
    "def discretizer(obs):\n",
    "    # obs = np.array([obs[0], obs[2]])\n",
    "    discrete_obs = (obs - min_obs_values)/discrete_obs_space_step_size\n",
    "    return tuple(discrete_obs.astype(np.int16)) # tuple to make indexing easier\n"
   ]
  },
  {
   "cell_type": "code",
   "execution_count": 25,
   "metadata": {},
   "outputs": [],
   "source": [
    "LEARNING_RATE = 0.1\n",
    "DISCOUNT = 0.99\n",
    "EXPLORATION_RATE = 1\n",
    "EXPLORATION_DECAY_RATE = 0.00001"
   ]
  },
  {
   "cell_type": "code",
   "execution_count": 26,
   "metadata": {},
   "outputs": [
    {
     "data": {
      "text/plain": [
       "(10, 10, 10, 10, 2)"
      ]
     },
     "execution_count": 26,
     "metadata": {},
     "output_type": "execute_result"
    }
   ],
   "source": [
    "q_table = np.zeros(DISCRETE_OBS_SPACE_SIZE + [env.action_space.n])\n",
    "q_table.shape"
   ]
  },
  {
   "cell_type": "code",
   "execution_count": 27,
   "metadata": {},
   "outputs": [
    {
     "name": "stdout",
     "output_type": "stream",
     "text": [
      "[0. 0.]\n",
      "[0. 0.]\n"
     ]
    }
   ],
   "source": [
    "print(q_table[0][0][0][0])\n",
    "print(q_table[(0,0,0,0)]) "
   ]
  },
  {
   "cell_type": "code",
   "execution_count": 28,
   "metadata": {},
   "outputs": [
    {
     "name": "stdout",
     "output_type": "stream",
     "text": [
      "[-2.4    -4.     -0.2099 -4.    ] [2.4    4.     0.2099 4.    ]\n",
      "[-0.04593377 -0.01918283 -0.04839711 -0.01037601]\n"
     ]
    },
    {
     "data": {
      "text/plain": [
       "(4, 4, 3, 4)"
      ]
     },
     "execution_count": 28,
     "metadata": {},
     "output_type": "execute_result"
    }
   ],
   "source": [
    "observation, info = env.reset()\n",
    "# obs = np.array([observation[0], observation[2]])\n",
    "obs = observation\n",
    "print(min_obs_values, max_obs_values)\n",
    "print(obs)\n",
    "discrete_obs = (obs - min_obs_values)/discrete_obs_space_step_size\n",
    "discrete_obs = tuple(discrete_obs.astype(np.int16))\n",
    "discrete_obs"
   ]
  },
  {
   "cell_type": "code",
   "execution_count": 55,
   "metadata": {},
   "outputs": [
    {
     "name": "stdout",
     "output_type": "stream",
     "text": [
      "0.1576\n"
     ]
    }
   ],
   "source": [
    "total_count = 0\n",
    "non_zero_count = 0\n",
    "for i in range(10):\n",
    "    for j in range(10):\n",
    "        for k in range(10):\n",
    "            for l in range(10):\n",
    "                probility = q_table[(i,j,k,l)]\n",
    "                if np.count_nonzero(probility) != 0:\n",
    "                    # print(probility)\n",
    "                    non_zero_count += 1\n",
    "                total_count += 1\n",
    "print(non_zero_count/total_count) # it doesn't even see most of the observation combinations\n",
    "# 0.1793 max i have seen"
   ]
  },
  {
   "cell_type": "code",
   "execution_count": 30,
   "metadata": {},
   "outputs": [
    {
     "name": "stdout",
     "output_type": "stream",
     "text": [
      "[0. 0.]\n"
     ]
    }
   ],
   "source": [
    "action = 1\n",
    "discrete_obs = (4, 5, 1, 3)\n",
    "print(q_table[discrete_obs])\n",
    "\n",
    "# q_table[discrete_obs + (action,)]"
   ]
  },
  {
   "cell_type": "code",
   "execution_count": 31,
   "metadata": {},
   "outputs": [],
   "source": [
    "scores = []"
   ]
  },
  {
   "cell_type": "code",
   "execution_count": 48,
   "metadata": {
    "scrolled": true
   },
   "outputs": [
    {
     "name": "stdout",
     "output_type": "stream",
     "text": [
      "Episode 0, exploration rate 0.19999000000197548, score 72.0\n",
      "Episode 1000, exploration rate 0.18999000000196548, score 51.0\n",
      "Episode 2000, exploration rate 0.17999000000195547, score 423.0\n",
      "Episode 3000, exploration rate 0.16999000000194547, score 30.0\n",
      "Episode 4000, exploration rate 0.15999000000193547, score 49.0\n",
      "Episode 5000, exploration rate 0.14999000000192547, score 15.0\n",
      "Episode 6000, exploration rate 0.13999000000191547, score 75.0\n",
      "Episode 7000, exploration rate 0.12999000000190547, score 20.0\n",
      "Episode 8000, exploration rate 0.11999000000190242, score 25.0\n",
      "Episode 9000, exploration rate 0.1099900000019063, score 197.0\n"
     ]
    }
   ],
   "source": [
    "num_episodes = 10000\n",
    "for e in range(num_episodes):\n",
    "    state, _ = env.reset()\n",
    "    discrete_state = discretizer(state) \n",
    "    done = False; score_per_episode = 0\n",
    "    while not done:\n",
    "        action = np.argmax(q_table[discrete_state])\n",
    "        if EXPLORATION_RATE > np.random.random():\n",
    "             action = env.action_space.sample() \n",
    "        new_state, reward, done, _, _ = env.step(action)\n",
    "        new_discrete_state = discretizer(new_state)\n",
    "        # print(discrete_state, action)\n",
    "        if not done:\n",
    "            max_future_q = np.max(q_table[new_discrete_state])\n",
    "            current_q = q_table[discrete_state + (action,)]\n",
    "            new_q = (1-LEARNING_RATE) * current_q + LEARNING_RATE * (reward + DISCOUNT * max_future_q)\n",
    "            q_table[discrete_state + (action,)] = new_q\n",
    "            \n",
    "        state = new_state\n",
    "        discrete_state = new_discrete_state\n",
    "        score_per_episode += reward\n",
    "        \n",
    "    EXPLORATION_RATE = max(EXPLORATION_RATE - EXPLORATION_DECAY_RATE, 0)\n",
    "    scores.append(score_per_episode)\n",
    "    if e % 1000 == 0:\n",
    "        print(f\"Episode {e}, exploration rate {EXPLORATION_RATE}, score {score_per_episode}\")\n",
    "    # if score_per_episode > 2000:\n",
    "    #     break\n",
    "        \n",
    "env.close()\n",
    "\n",
    "# cart position is not really changing much for random actions, maybe i should use all the observations\n"
   ]
  },
  {
   "cell_type": "code",
   "execution_count": 54,
   "metadata": {},
   "outputs": [
    {
     "data": {
      "text/plain": [
       "[<matplotlib.lines.Line2D at 0x249b8dd26d0>]"
      ]
     },
     "execution_count": 54,
     "metadata": {},
     "output_type": "execute_result"
    },
    {
     "data": {
      "image/png": "[encoded data removed]",
      "text/plain": [
       "<Figure size 640x480 with 1 Axes>"
      ]
     },
     "metadata": {},
     "output_type": "display_data"
    }
   ],
   "source": [
    "window_size = 1000\n",
    "num_windows = len(scores) // window_size\n",
    "smoothed_scores = [np.mean(scores[i*window_size:(i+1)*window_size]) for i in range(num_windows)]\n",
    "plt.plot(smoothed_scores)\n"
   ]
  },
  {
   "cell_type": "code",
   "execution_count": null,
   "metadata": {},
   "outputs": [],
   "source": []
  }
 ],
 "metadata": {
  "kernelspec": {
   "display_name": "Python 3 (ipykernel)",
   "language": "python",
   "name": "python3"
  },
  "language_info": {
   "codemirror_mode": {
    "name": "ipython",
    "version": 3
   },
   "file_extension": ".py",
   "mimetype": "text/x-python",
   "name": "python",
   "nbconvert_exporter": "python",
   "pygments_lexer": "ipython3",
   "version": "3.11.6"
  }
 },
 "nbformat": 4,
 "nbformat_minor": 4
}
