{
 "cells": [
  {
   "cell_type": "code",
   "execution_count": 7,
   "metadata": {},
   "outputs": [],
   "source": [
    "import gymnasium as gym\n",
    "import numpy as np"
   ]
  },
  {
   "cell_type": "code",
   "execution_count": 2,
   "metadata": {},
   "outputs": [],
   "source": [
    "env = gym.make(\"CartPole-v1\", render_mode = \"human\")"
   ]
  },
  {
   "cell_type": "code",
   "execution_count": 43,
   "metadata": {},
   "outputs": [
    {
     "name": "stdout",
     "output_type": "stream",
     "text": [
      "Actual observation max values: [4.8000002e+00 3.4028235e+38 4.1887903e-01 3.4028235e+38]\n",
      "Actual observation min values: [-4.8000002e+00 -3.4028235e+38 -4.1887903e-01 -3.4028235e+38]\n",
      "Used observation max values: [ 4.8 24. ]\n",
      "Used observation min values: [ -4.8 -24. ]\n"
     ]
    }
   ],
   "source": [
    "max_obs_values = env.observation_space.high\n",
    "min_obs_values = env.observation_space.low\n",
    "print(f\"Actual observation max values: {max_obs_values}\")\n",
    "print(f\"Actual observation min values: {min_obs_values}\")\n",
    "# This is kinda a lot, and we dont need infinity values, we can change/ignore them\n",
    "# and we can change radians to degree too\n",
    "\n",
    "# lets change them, not sure about this yet\n",
    "# max_obs_values = (max_obs_values[0], 20, np.rad2deg(max_obs_values[2]), 20)\n",
    "# min_obs_values = (min_obs_values[0], -20, np.rad2deg(min_obs_values[2]), -20)\n",
    "\n",
    "# lets ignore them, simpler observations\n",
    "# only position and angle is used\n",
    "max_obs_values = np.array([max_obs_values[0], np.rad2deg(max_obs_values[2])])\n",
    "min_obs_values = np.array([min_obs_values[0], np.rad2deg(min_obs_values[2])])\n",
    "print(f\"Used observation max values: {max_obs_values}\")\n",
    "print(f\"Used observation min values: {min_obs_values}\")"
   ]
  },
  {
   "cell_type": "code",
   "execution_count": 66,
   "metadata": {},
   "outputs": [
    {
     "data": {
      "text/plain": [
       "array([0.48000002, 1.6       ])"
      ]
     },
     "execution_count": 66,
     "metadata": {},
     "output_type": "execute_result"
    }
   ],
   "source": [
    "DISCRETE_OBS_SPACE_SIZE = [20]* len(max_obs_values) \n",
    "# DISCRETE_OBS_SPACE_SIZE = [20, 30] # these are the what the max values will corresponds to\n",
    "discrete_obs_space_step_size = (max_obs_values - min_obs_values) / DISCRETE_OBS_SPACE_SIZE\n",
    "discrete_obs_space_step_size"
   ]
  },
  {
   "cell_type": "code",
   "execution_count": 99,
   "metadata": {},
   "outputs": [
    {
     "data": {
      "text/plain": [
       "(0, 28)"
      ]
     },
     "execution_count": 99,
     "metadata": {},
     "output_type": "execute_result"
    }
   ],
   "source": [
    "def discretizer(obs):\n",
    "    obs = np.array([obs[0], obs[2]])\n",
    "    discrete_obs = (obs - min_obs_values)/discrete_obs_space_step_size\n",
    "    return tuple(discrete_obs.astype(np.int16))\n",
    "disc_obs = discretizer([-4.8, 2, 22, 6]) \n",
    "disc_obs\n",
    "# min value corresponds to zero\n",
    "# max value corresponds to discrete space size for that index"
   ]
  },
  {
   "cell_type": "code",
   "execution_count": 85,
   "metadata": {},
   "outputs": [
    {
     "data": {
      "text/plain": [
       "[20, 30, 2]"
      ]
     },
     "execution_count": 85,
     "metadata": {},
     "output_type": "execute_result"
    }
   ],
   "source": [
    "action_space = env.action_space.n\n",
    "action_space\n",
    "(DISCRETE_OBS_SPACE_SIZE + [env.action_space.n])"
   ]
  },
  {
   "cell_type": "code",
   "execution_count": 100,
   "metadata": {},
   "outputs": [
    {
     "data": {
      "text/plain": [
       "array([0.6998863 , 1.09658777])"
      ]
     },
     "execution_count": 100,
     "metadata": {},
     "output_type": "execute_result"
    }
   ],
   "source": [
    "q_table = np.random.uniform(low=-2,high=2, size=(DISCRETE_OBS_SPACE_SIZE + [env.action_space.n]))\n",
    "q_table[disc_obs]"
   ]
  }
 ],
 "metadata": {
  "kernelspec": {
   "display_name": "Python 3",
   "language": "python",
   "name": "python3"
  },
  "language_info": {
   "codemirror_mode": {
    "name": "ipython",
    "version": 3
   },
   "file_extension": ".py",
   "mimetype": "text/x-python",
   "name": "python",
   "nbconvert_exporter": "python",
   "pygments_lexer": "ipython3",
   "version": "3.11.6"
  }
 },
 "nbformat": 4,
 "nbformat_minor": 2
}
