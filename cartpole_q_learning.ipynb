{
 "cells": [
  {
   "cell_type": "code",
   "execution_count": 77,
   "metadata": {},
   "outputs": [],
   "source": [
    "import gymnasium as gym\n",
    "import numpy as np"
   ]
  },
  {
   "cell_type": "code",
   "execution_count": 78,
   "metadata": {},
   "outputs": [
    {
     "name": "stdout",
     "output_type": "stream",
     "text": [
      "[-4.8000002e+00 -3.4028235e+38 -4.1887903e-01 -3.4028235e+38] [4.8000002e+00 3.4028235e+38 4.1887903e-01 3.4028235e+38]\n"
     ]
    }
   ],
   "source": [
    "env = gym.make('CartPole-v1')\n",
    "print(env.observation_space.low, env.observation_space.high)"
   ]
  },
  {
   "cell_type": "code",
   "execution_count": 79,
   "metadata": {},
   "outputs": [
    {
     "name": "stdout",
     "output_type": "stream",
     "text": [
      "[-2.4    -3.     -0.2094 -4.    ] [2.4    3.     0.2094 4.    ]\n"
     ]
    }
   ],
   "source": [
    "max_obs_values = np.array([2.4, 3, 0.2094 , 4])\n",
    "min_obs_values = np.array([-2.4, -3, -0.2094, -4])\n",
    "print(min_obs_values, max_obs_values)"
   ]
  },
  {
   "cell_type": "code",
   "execution_count": 80,
   "metadata": {},
   "outputs": [],
   "source": [
    "DISCRETE_OBS_SPACE_SIZE = [10]* len(max_obs_values) # these are the what the max values will corresponds to\n",
    "discrete_obs_space_step_size = (max_obs_values - min_obs_values) / DISCRETE_OBS_SPACE_SIZE\n",
    "\n",
    "def discretizer(obs):\n",
    "    # obs = np.array([obs[0], obs[2]])\n",
    "    discrete_obs = (obs - min_obs_values)/discrete_obs_space_step_size\n",
    "    return tuple(discrete_obs.astype(np.int16)) # tuple to make indexing easier\n"
   ]
  },
  {
   "cell_type": "code",
   "execution_count": 81,
   "metadata": {},
   "outputs": [],
   "source": [
    "LEARNING_RATE = 0.1\n",
    "DISCOUNT = 0.95\n",
    "EXPLORATION_RATE = 1\n",
    "EXPLORATION_DECAY_RATE = 0.000001"
   ]
  },
  {
   "cell_type": "code",
   "execution_count": 82,
   "metadata": {},
   "outputs": [
    {
     "data": {
      "text/plain": [
       "(10, 10, 10, 10, 2)"
      ]
     },
     "execution_count": 82,
     "metadata": {},
     "output_type": "execute_result"
    }
   ],
   "source": [
    "q_table = np.zeros(DISCRETE_OBS_SPACE_SIZE + [env.action_space.n])\n",
    "q_table.shape"
   ]
  },
  {
   "cell_type": "code",
   "execution_count": 83,
   "metadata": {},
   "outputs": [
    {
     "name": "stdout",
     "output_type": "stream",
     "text": [
      "[0. 0.]\n",
      "[0. 0.]\n"
     ]
    }
   ],
   "source": [
    "print(q_table[0][0][0][0])\n",
    "print(q_table[(0,0,0,0)]) "
   ]
  },
  {
   "cell_type": "code",
   "execution_count": 84,
   "metadata": {},
   "outputs": [
    {
     "name": "stdout",
     "output_type": "stream",
     "text": [
      "[-2.4    -3.     -0.2094 -4.    ] [2.4    3.     0.2094 4.    ]\n",
      "[-0.03024509  0.04589337 -0.0156145   0.00555891]\n"
     ]
    },
    {
     "data": {
      "text/plain": [
       "(4, 5, 4, 5)"
      ]
     },
     "execution_count": 84,
     "metadata": {},
     "output_type": "execute_result"
    }
   ],
   "source": [
    "observation, info = env.reset()\n",
    "# obs = np.array([observation[0], observation[2]])\n",
    "obs = observation\n",
    "print(min_obs_values, max_obs_values)\n",
    "print(obs)\n",
    "discrete_obs = (obs - min_obs_values)/discrete_obs_space_step_size\n",
    "discrete_obs = tuple(discrete_obs.astype(np.int16))\n",
    "discrete_obs"
   ]
  },
  {
   "cell_type": "code",
   "execution_count": 111,
   "metadata": {},
   "outputs": [
    {
     "name": "stdout",
     "output_type": "stream",
     "text": [
      "(4, 1, 10, 8) [-0.20717488 -1.9313203   0.23249243  3.0635042 ] True\n",
      "Episode 0, average score 10.0\n",
      "(4, 2, 10, 8) [-0.14158359 -1.7959569   0.23685437  2.8509216 ] True\n",
      "(4, 1, 10, 8) [-0.12465039 -1.9134161   0.24443118  3.0930884 ] True\n",
      "(4, 2, 10, 8) [-0.15655214 -1.7848084   0.24638775  2.8112335 ] True\n",
      "(4, 2, 10, 8) [-0.08399069 -1.523375    0.22088575  2.5399044 ] True\n",
      "(4, 1, 10, 8) [-0.17213541 -1.917065    0.2336637   3.060905  ] True\n",
      "(4, 1, 10, 8) [-0.13973223 -1.9185872   0.2308143   3.063857  ] True\n",
      "(4, 2, 10, 8) [-0.13923989 -1.5790813   0.21943945  2.5866194 ] True\n",
      "(4, 1, 10, 8) [-0.1792648  -1.980372    0.23895998  3.0236974 ] True\n",
      "(4, 1, 10, 8) [-0.1340651  -1.9048388   0.21197213  2.969978  ] True\n",
      "(4, 2, 10, 8) [-0.16335677 -1.7504144   0.22297603  2.827221  ] True\n",
      "(4, 2, 10, 8) [-0.18395849 -1.7393295   0.23020132  2.8477602 ] True\n",
      "(4, 1, 10, 8) [-0.16886838 -1.9561548   0.24360183  3.0612311 ] True\n",
      "(4, 1, 10, 8) [-0.15873699 -1.9606001   0.22399233  3.045536  ] True\n",
      "(4, 2, 10, 8) [-0.18763009 -1.7806673   0.23527847  2.7855592 ] True\n",
      "(4, 2, 10, 8) [-0.07898733 -1.571422    0.21976703  2.5791776 ] True\n",
      "(4, 2, 10, 8) [-0.10304985 -1.7771139   0.224188    2.7796917 ] True\n",
      "(4, 2, 10, 8) [-0.16183245 -1.7150964   0.21824932  2.7772548 ] True\n",
      "(4, 1, 10, 8) [-0.1972505  -1.9356399   0.21085918  2.9573789 ] True\n",
      "(4, 1, 10, 8) [-0.16210207 -1.9727527   0.25103936  3.0785687 ] True\n",
      "(4, 2, 10, 8) [-0.09243631 -1.7487751   0.24525253  2.8457756 ] True\n",
      "(4, 1, 10, 8) [-0.1645445  -1.8086245   0.23462372  2.8600085 ] True\n",
      "(4, 1, 10, 8) [-0.17422436 -1.9176382   0.2303099   3.030606  ] True\n",
      "(4, 1, 10, 8) [-0.18964125 -1.9343466   0.22598433  3.0217333 ] True\n",
      "(4, 1, 11, 8) [-0.17162147 -1.8071929   0.25402397  2.8502378 ] True\n",
      "(4, 1, 11, 8) [-0.10066922 -1.8021936   0.25313014  2.8386786 ] True\n",
      "(4, 2, 10, 8) [-0.10155722 -1.611584    0.21359108  2.4976265 ] True\n",
      "(4, 1, 10, 8) [-0.1285794  -1.960514    0.22815764  3.018404  ] True\n",
      "(4, 1, 10, 8) [-0.17085    -1.919615    0.23438242  3.0735066 ] True\n",
      "(4, 2, 11, 8) [-0.14639623 -1.734549    0.2520313   2.8940709 ] True\n",
      "(4, 1, 10, 8) [-0.15034887 -1.8039274   0.22226356  2.7594132 ] True\n",
      "(4, 2, 10, 8) [-0.09254    -1.7617217   0.23004185  2.823661  ] True\n",
      "(4, 2, 11, 8) [-0.17560574 -1.7984942   0.2582813   2.9002557 ] True\n",
      "(4, 2, 10, 8) [-0.15243685 -1.5805067   0.2213445   2.563699  ] True\n",
      "(4, 2, 10, 8) [-0.06456289 -1.5443348   0.22854254  2.5884414 ] True\n",
      "(4, 2, 10, 8) [-0.11283474 -1.7684351   0.22514056  2.8237185 ] True\n",
      "(4, 2, 11, 8) [-0.16890587 -1.7223262   0.25923684  2.899128  ] True\n",
      "(4, 1, 10, 8) [-0.20485753 -1.9683377   0.22689778  3.0023892 ] True\n",
      "(4, 1, 10, 8) [-0.16117027 -1.9840921   0.2363894   3.02012   ] True\n",
      "(4, 1, 11, 9) [-0.2073746  -2.1354089   0.26667652  3.2862463 ] True\n",
      "(4, 1, 10, 8) [-0.11735748 -1.8038107   0.24123862  2.8337715 ] True\n",
      "(4, 2, 10, 8) [-0.17253426 -1.7969036   0.24810389  2.8869534 ] True\n",
      "(4, 2, 11, 8) [-0.10700268 -1.7332387   0.2551051   2.8441432 ] True\n",
      "(4, 2, 10, 8) [-0.17236654 -1.735048    0.22382365  2.7946212 ] True\n",
      "(4, 2, 10, 8) [-0.13310851 -1.7322022   0.24298726  2.8157418 ] True\n",
      "(4, 1, 11, 8) [-0.1492937  -1.8088529   0.25272548  2.8227625 ] True\n",
      "(4, 2, 11, 8) [-0.13538355 -1.755728    0.25770244  2.9108052 ] True\n",
      "(4, 2, 11, 8) [-0.12572259 -1.7152796   0.25298643  2.8603876 ] True\n",
      "(4, 2, 11, 8) [-0.1303178  -1.7929612   0.25324535  2.895309  ] True\n",
      "(4, 1, 10, 8) [-0.23043744 -1.9911176   0.21294697  2.9587643 ] True\n",
      "(4, 1, 11, 8) [-0.14983091 -1.9292051   0.26304495  3.0830076 ] True\n",
      "(4, 2, 10, 8) [-0.08604137 -1.7203044   0.23872675  2.8012955 ] True\n",
      "(4, 2, 11, 8) [-0.17138416 -1.7349589   0.2530988   2.8359826 ] True\n",
      "(4, 2, 10, 8) [-0.16896126 -1.7711883   0.23052125  2.8152695 ] True\n",
      "(4, 1, 11, 8) [-0.13792177 -2.0014126   0.2564988   3.0638292 ] True\n",
      "(4, 1, 10, 8) [-0.1942782  -1.9987584   0.23223156  3.0122507 ] True\n",
      "(4, 1, 10, 8) [-0.2199582  -1.9678669   0.21946803  2.9925795 ] True\n",
      "(4, 2, 10, 8) [-0.07448241 -1.6088392   0.21242827  2.5229428 ] True\n",
      "(4, 2, 10, 8) [-0.1119323 -1.7123395  0.2340481  2.847818 ] True\n"
     ]
    },
    {
     "ename": "IndexError",
     "evalue": "index 10 is out of bounds for axis 0 with size 10",
     "output_type": "error",
     "traceback": [
      "\u001b[1;31m---------------------------------------------------------------------------\u001b[0m",
      "\u001b[1;31mIndexError\u001b[0m                                Traceback (most recent call last)",
      "Cell \u001b[1;32mIn[111], line 15\u001b[0m\n\u001b[0;32m     13\u001b[0m discrete_obs \u001b[38;5;241m=\u001b[39m discretizer(observation)\n\u001b[0;32m     14\u001b[0m \u001b[38;5;28;01mif\u001b[39;00m \u001b[38;5;129;01mnot\u001b[39;00m done:\n\u001b[1;32m---> 15\u001b[0m     max_future_q \u001b[38;5;241m=\u001b[39m np\u001b[38;5;241m.\u001b[39mmax(\u001b[43mq_table\u001b[49m\u001b[43m[\u001b[49m\u001b[43mdiscrete_obs\u001b[49m\u001b[43m,\u001b[49m\u001b[43m:\u001b[49m\u001b[43m]\u001b[49m)\n\u001b[0;32m     16\u001b[0m     current_q \u001b[38;5;241m=\u001b[39m q_table[current_obs \u001b[38;5;241m+\u001b[39m (action,)]\n\u001b[0;32m     17\u001b[0m     new_q \u001b[38;5;241m=\u001b[39m (\u001b[38;5;241m1\u001b[39m\u001b[38;5;241m-\u001b[39mLEARNING_RATE) \u001b[38;5;241m*\u001b[39m current_q \u001b[38;5;241m+\u001b[39m LEARNING_RATE \u001b[38;5;241m*\u001b[39m (reward \u001b[38;5;241m+\u001b[39m DISCOUNT \u001b[38;5;241m*\u001b[39m max_future_q)\n",
      "\u001b[1;31mIndexError\u001b[0m: index 10 is out of bounds for axis 0 with size 10"
     ]
    }
   ],
   "source": [
    "num_episodes = 1000\n",
    "average_scores = []\n",
    "for e in range(num_episodes):\n",
    "    observation, info = env.reset()\n",
    "    current_obs = discretizer(observation) \n",
    "    done = False; score_per_episode = 0\n",
    "    scores = [] # list for 100 episodes\n",
    "    while not done:\n",
    "        action = np.argmax(q_table[current_obs])\n",
    "        if EXPLORATION_RATE > np.random.random():\n",
    "             action = env.action_space.sample() \n",
    "        observation, reward, done, _, _ = env.step(action)\n",
    "        discrete_obs = discretizer(observation)\n",
    "        if not done:\n",
    "            max_future_q = np.max(q_table[discrete_obs,:])\n",
    "            current_q = q_table[current_obs + (action,)]\n",
    "            new_q = (1-LEARNING_RATE) * current_q + LEARNING_RATE * (reward + DISCOUNT * max_future_q)\n",
    "            q_table[current_obs + (action,)] = new_q\n",
    "            # print(new_q, current_q) # new_q isn't changing\n",
    "        else:\n",
    "            print(discrete_obs, observation, done)\n",
    "            \n",
    "\n",
    "        current_obs = discrete_obs\n",
    "        score_per_episode += reward\n",
    "        EXPLORATION_RATE -= np.max(EXPLORATION_RATE - EXPLORATION_DECAY_RATE, 0)\n",
    "    scores.append(score_per_episode)\n",
    "        \n",
    "    if e % 100 == 0:\n",
    "        average_score = np.mean(scores)\n",
    "        average_scores.append(average_score)\n",
    "        scores = []\n",
    "        print(f\"Episode {e}, average score {average_score}\")\n",
    "    if score_per_episode > 10000:\n",
    "        break\n",
    "env.close()\n",
    "\n",
    "# cart position is not really changing much for random actions, maybe i should use all the observations\n"
   ]
  },
  {
   "cell_type": "code",
   "execution_count": null,
   "metadata": {},
   "outputs": [],
   "source": []
  }
 ],
 "metadata": {
  "kernelspec": {
   "display_name": "Python 3 (ipykernel)",
   "language": "python",
   "name": "python3"
  },
  "language_info": {
   "codemirror_mode": {
    "name": "ipython",
    "version": 3
   },
   "file_extension": ".py",
   "mimetype": "text/x-python",
   "name": "python",
   "nbconvert_exporter": "python",
   "pygments_lexer": "ipython3",
   "version": "3.11.6"
  }
 },
 "nbformat": 4,
 "nbformat_minor": 4
}
