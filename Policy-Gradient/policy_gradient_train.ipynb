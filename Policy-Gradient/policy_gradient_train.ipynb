{
 "cells": [
  {
   "cell_type": "code",
   "execution_count": 75,
   "id": "e6a7154a-50b1-4df4-aaa9-219e7c013c57",
   "metadata": {},
   "outputs": [],
   "source": [
    "import numpy as np\n",
    "import matplotlib.pyplot as plt\n",
    "import gymnasium as gym\n",
    "from tqdm.notebook import tqdm\n",
    "\n",
    "import torch\n",
    "import torch.nn as nn\n",
    "from torch.optim import Adam\n",
    "from torch.utils.data import Dataset, DataLoader\n",
    "from torch.distributions.categorical import Categorical\n"
   ]
  },
  {
   "cell_type": "code",
   "execution_count": 76,
   "id": "abcb4c66-b347-4396-8742-39965bfc4c5f",
   "metadata": {},
   "outputs": [
    {
     "data": {
      "text/plain": [
       "device(type='cpu')"
      ]
     },
     "execution_count": 76,
     "metadata": {},
     "output_type": "execute_result"
    }
   ],
   "source": [
    "torch.manual_seed(42)\n",
    "device = torch.device(\"cuda\" if torch.cuda.is_available() else \"cpu\")\n",
    "device"
   ]
  },
  {
   "cell_type": "code",
   "execution_count": 98,
   "id": "eb26ab1a-b0f6-4610-b5d2-c2bb3f96f9c9",
   "metadata": {},
   "outputs": [
    {
     "name": "stdout",
     "output_type": "stream",
     "text": [
      "4 obs | 2 acts\n"
     ]
    }
   ],
   "source": [
    "# environment parameters\n",
    "env_name=\"CartPole-v1\"\n",
    "env = gym.make(env_name)\n",
    "obs_dim = env.observation_space.shape[0]\n",
    "acts_dim = env.action_space.n\n",
    "print(f\"{obs_dim} obs | {acts_dim} acts\")\n",
    "\n",
    "# mlp parameters\n",
    "hidden_sizes = [32]\n",
    "sizes = [obs_dim]+hidden_sizes+[n_acts]\n",
    "\n",
    "# training parameters\n",
    "epochs=50\n",
    "batch_size=5000\n",
    "lr = 1e-2"
   ]
  },
  {
   "cell_type": "code",
   "execution_count": 78,
   "id": "6a457f68-9a70-43fa-b42e-de72bd45af46",
   "metadata": {},
   "outputs": [],
   "source": [
    "class MLP(nn.Module):\n",
    "    def __init__(self, sizes, activation=nn.Tanh, output_activation=nn.Identity):\n",
    "        super().__init__()\n",
    "        layers = []\n",
    "        for j in range(len(sizes)-1):\n",
    "            act = activation if j < len(sizes)-2 else output_activation\n",
    "            layers += [nn.Linear(sizes[j], sizes[j+1]), act()]\n",
    "        self.layers = nn.Sequential(*layers)\n",
    "        \n",
    "\n",
    "    def forward(self, x):\n",
    "        return self.layers(x)\n"
   ]
  },
  {
   "cell_type": "code",
   "execution_count": 96,
   "id": "ddfaa5f9-adbe-48e5-b085-5dcf41440e25",
   "metadata": {},
   "outputs": [],
   "source": [
    "\n",
    "def get_policy(obs):\n",
    "    logits = model(obs)\n",
    "    return Categorical(logits=logits)\n",
    "\n",
    "def get_action(obs): # only one observation as input\n",
    "    # you can remove .item() to pass batch of obs as input\n",
    "    return get_policy(obs).sample().item()\n",
    "\n",
    "# make loss function whose gradient, for the right data, is policy gradient\n",
    "def compute_loss(obs, act, weights):\n",
    "    logp = get_policy(obs).log_prob(act)\n",
    "    return -(logp * weights).mean()\n"
   ]
  },
  {
   "cell_type": "code",
   "execution_count": 99,
   "id": "2602e8df-d73c-4486-a073-95073716e621",
   "metadata": {},
   "outputs": [
    {
     "name": "stdout",
     "output_type": "stream",
     "text": [
      "epoch:   0 \t loss: 22.116 \t return: 24.539 \t ep_len: 24.539\n",
      "epoch:   1 \t loss: 28.380 \t return: 29.263 \t ep_len: 29.263\n",
      "epoch:   2 \t loss: 29.597 \t return: 31.854 \t ep_len: 31.854\n",
      "epoch:   3 \t loss: 35.768 \t return: 37.463 \t ep_len: 37.463\n",
      "epoch:   4 \t loss: 38.804 \t return: 41.372 \t ep_len: 41.372\n",
      "epoch:   5 \t loss: 41.675 \t return: 49.176 \t ep_len: 49.176\n",
      "epoch:   6 \t loss: 39.246 \t return: 48.385 \t ep_len: 48.385\n",
      "epoch:   7 \t loss: 47.756 \t return: 61.084 \t ep_len: 61.084\n",
      "epoch:   8 \t loss: 45.948 \t return: 59.094 \t ep_len: 59.094\n",
      "epoch:   9 \t loss: 56.869 \t return: 68.446 \t ep_len: 68.446\n",
      "epoch:  10 \t loss: 48.076 \t return: 63.899 \t ep_len: 63.899\n",
      "epoch:  11 \t loss: 52.226 \t return: 68.284 \t ep_len: 68.284\n",
      "epoch:  12 \t loss: 45.696 \t return: 67.716 \t ep_len: 67.716\n",
      "epoch:  13 \t loss: 50.356 \t return: 72.768 \t ep_len: 72.768\n",
      "epoch:  14 \t loss: 52.602 \t return: 72.657 \t ep_len: 72.657\n",
      "epoch:  15 \t loss: 59.273 \t return: 80.871 \t ep_len: 80.871\n",
      "epoch:  16 \t loss: 66.817 \t return: 93.741 \t ep_len: 93.741\n",
      "epoch:  17 \t loss: 58.165 \t return: 86.102 \t ep_len: 86.102\n",
      "epoch:  18 \t loss: 71.799 \t return: 104.229 \t ep_len: 104.229\n",
      "epoch:  19 \t loss: 70.272 \t return: 103.245 \t ep_len: 103.245\n",
      "epoch:  20 \t loss: 82.453 \t return: 122.024 \t ep_len: 122.024\n",
      "epoch:  21 \t loss: 93.847 \t return: 143.143 \t ep_len: 143.143\n",
      "epoch:  22 \t loss: 100.743 \t return: 143.171 \t ep_len: 143.171\n",
      "epoch:  23 \t loss: 85.013 \t return: 133.026 \t ep_len: 133.026\n",
      "epoch:  24 \t loss: 98.426 \t return: 131.769 \t ep_len: 131.769\n",
      "epoch:  25 \t loss: 93.254 \t return: 140.306 \t ep_len: 140.306\n",
      "epoch:  26 \t loss: 103.666 \t return: 152.727 \t ep_len: 152.727\n",
      "epoch:  27 \t loss: 122.294 \t return: 166.194 \t ep_len: 166.194\n",
      "epoch:  28 \t loss: 148.498 \t return: 212.208 \t ep_len: 212.208\n",
      "epoch:  29 \t loss: 222.930 \t return: 281.053 \t ep_len: 281.053\n",
      "epoch:  30 \t loss: 221.577 \t return: 299.824 \t ep_len: 299.824\n",
      "epoch:  31 \t loss: 250.127 \t return: 368.643 \t ep_len: 368.643\n",
      "epoch:  32 \t loss: 311.453 \t return: 457.818 \t ep_len: 457.818\n",
      "epoch:  33 \t loss: 237.597 \t return: 317.062 \t ep_len: 317.062\n",
      "epoch:  34 \t loss: 207.247 \t return: 320.125 \t ep_len: 320.125\n",
      "epoch:  35 \t loss: 210.806 \t return: 282.211 \t ep_len: 282.211\n",
      "epoch:  36 \t loss: 188.855 \t return: 302.353 \t ep_len: 302.353\n",
      "epoch:  37 \t loss: 294.700 \t return: 461.818 \t ep_len: 461.818\n",
      "epoch:  38 \t loss: 427.652 \t return: 505.667 \t ep_len: 505.667\n",
      "epoch:  39 \t loss: 481.095 \t return: 565.667 \t ep_len: 565.667\n",
      "epoch:  40 \t loss: 317.663 \t return: 455.333 \t ep_len: 455.333\n",
      "epoch:  41 \t loss: 394.373 \t return: 466.273 \t ep_len: 466.273\n",
      "epoch:  42 \t loss: 293.482 \t return: 426.083 \t ep_len: 426.083\n",
      "epoch:  43 \t loss: 381.461 \t return: 507.091 \t ep_len: 507.091\n",
      "epoch:  44 \t loss: 296.783 \t return: 337.067 \t ep_len: 337.067\n",
      "epoch:  45 \t loss: 282.105 \t return: 394.615 \t ep_len: 394.615\n",
      "epoch:  46 \t loss: 195.637 \t return: 217.522 \t ep_len: 217.522\n",
      "epoch:  47 \t loss: 195.402 \t return: 242.652 \t ep_len: 242.652\n",
      "epoch:  48 \t loss: 281.339 \t return: 362.600 \t ep_len: 362.600\n",
      "epoch:  49 \t loss: 315.611 \t return: 471.333 \t ep_len: 471.333\n"
     ]
    }
   ],
   "source": [
    "model = MLP(sizes)\n",
    "\n",
    "optimizer = Adam(model.parameters(), lr=lr)\n",
    "\n",
    "# training loop\n",
    "for i in range(epochs):\n",
    "    # make some empty lists for logging.\n",
    "    batch_obs = []          # for observations\n",
    "    batch_acts = []         # for actions\n",
    "    batch_weights = []      # for R(tau) weighting in policy gradient\n",
    "    batch_rets = []         # for measuring episode returns\n",
    "    batch_lens = []         # for measuring episode lengths\n",
    "\n",
    "    # reset episode-specific variables\n",
    "    obs, _ = env.reset()    # first obs comes from starting distribution\n",
    "    done = False            # signal from environment that episode is over\n",
    "    ep_rews = []            # list for rewards accrued throughout ep\n",
    "\n",
    "    # collect experience by acting in the environment with current policy\n",
    "    while True:\n",
    "        batch_obs.append(obs)\n",
    "        \n",
    "        act = get_action(torch.as_tensor(obs, dtype=torch.float32))\n",
    "        obs, rew, done, _, _ = env.step(act)\n",
    "        \n",
    "        batch_acts.append(act)\n",
    "        ep_rews.append(rew)\n",
    "\n",
    "        if done:\n",
    "            # if episode is over, record info about episode\n",
    "            ep_ret, ep_len = sum(ep_rews), len(ep_rews)\n",
    "            batch_rets.append(ep_ret)\n",
    "            batch_lens.append(ep_len)\n",
    "            \n",
    "            # the weight for each logprob(a|s) is R(tau)\n",
    "            batch_weights += [ep_ret] * ep_len\n",
    "            \n",
    "            obs, _ = env.reset()\n",
    "            done = False\n",
    "            ep_rews = []\n",
    "            \n",
    "            if len(batch_obs) > batch_size:\n",
    "                break\n",
    "                \n",
    "    # take a single policy gradient update step using the experience gained\n",
    "    optimizer.zero_grad()\n",
    "    batch_loss = compute_loss(obs=torch.as_tensor(batch_obs, dtype=torch.float32),\n",
    "                              act=torch.as_tensor(batch_acts, dtype=torch.int32),\n",
    "                              weights=torch.as_tensor(batch_weights, dtype=torch.float32)\n",
    "                              )\n",
    "    batch_loss.backward()\n",
    "    optimizer.step()\n",
    "    \n",
    "    print(\"epoch: %3d \\t loss: %.3f \\t return: %.3f \\t ep_len: %.3f\"%\n",
    "            (i, batch_loss, np.mean(batch_rets), np.mean(batch_lens)))\n"
   ]
  },
  {
   "cell_type": "code",
   "execution_count": null,
   "id": "260aa659-2a2b-434c-9674-255b6e76b3ba",
   "metadata": {},
   "outputs": [],
   "source": [
    "PATH = f\"{env_name}_{ep_len}\"\n",
    "torch.save(model, PATH)\n"
   ]
  }
 ],
 "metadata": {
  "kernelspec": {
   "display_name": "Python 3 (ipykernel)",
   "language": "python",
   "name": "python3"
  },
  "language_info": {
   "codemirror_mode": {
    "name": "ipython",
    "version": 3
   },
   "file_extension": ".py",
   "mimetype": "text/x-python",
   "name": "python",
   "nbconvert_exporter": "python",
   "pygments_lexer": "ipython3",
   "version": "3.11.4"
  }
 },
 "nbformat": 4,
 "nbformat_minor": 5
}
