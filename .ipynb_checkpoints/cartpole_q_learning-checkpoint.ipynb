{
 "cells": [
  {
   "cell_type": "code",
   "execution_count": 2,
   "metadata": {},
   "outputs": [],
   "source": [
    "import gymnasium as gym\n",
    "import numpy as np"
   ]
  },
  {
   "cell_type": "code",
   "execution_count": 38,
   "metadata": {},
   "outputs": [],
   "source": [
    "env = gym.make('CartPole-v1')\n",
    "max_obs_values = env.observation_space.high\n",
    "min_obs_values = env.observation_space.low\n",
    "max_obs_values = np.array([max_obs_values[0], max_obs_values[2]])/2\n",
    "min_obs_values = np.array([min_obs_values[0], min_obs_values[2]])/2\n"
   ]
  },
  {
   "cell_type": "code",
   "execution_count": 39,
   "metadata": {},
   "outputs": [],
   "source": [
    "DISCRETE_OBS_SPACE_SIZE = [20]* len(max_obs_values) # these are the what the max values will corresponds to\n",
    "discrete_obs_space_step_size = (max_obs_values - min_obs_values) / DISCRETE_OBS_SPACE_SIZE\n",
    "\n",
    "def discretizer(obs):\n",
    "    obs = np.array([obs[0], obs[2]])\n",
    "    discrete_obs = (obs - min_obs_values)/discrete_obs_space_step_size\n",
    "    return tuple(discrete_obs.astype(np.int16)) # tuple to make indexing easier\n"
   ]
  },
  {
   "cell_type": "code",
   "execution_count": 40,
   "metadata": {},
   "outputs": [],
   "source": [
    "LEARNING_RATE = 0.1\n",
    "DISCOUNT = 0.95\n",
    "EXPLORATION_RATE = 1\n",
    "EXPLORATION_DECAY_RATE = 0.000001\n"
   ]
  },
  {
   "cell_type": "code",
   "execution_count": 41,
   "metadata": {},
   "outputs": [
    {
     "data": {
      "text/plain": [
       "(20, 20, 2)"
      ]
     },
     "execution_count": 41,
     "metadata": {},
     "output_type": "execute_result"
    }
   ],
   "source": [
    "q_table = np.zeros(DISCRETE_OBS_SPACE_SIZE + [env.action_space.n])\n",
    "num_episodes = 1\n",
    "scores = []\n",
    "q_table.shape\n"
   ]
  },
  {
   "cell_type": "code",
   "execution_count": 95,
   "metadata": {},
   "outputs": [
    {
     "name": "stdout",
     "output_type": "stream",
     "text": [
      "[-2.4        -0.20943952] [2.4        0.20943952]\n",
      "[ 0.02247692 -0.02245199]\n"
     ]
    },
    {
     "data": {
      "text/plain": [
       "array([10.09365379,  8.92799686])"
      ]
     },
     "execution_count": 95,
     "metadata": {},
     "output_type": "execute_result"
    }
   ],
   "source": [
    "observation, info = env.reset()\n",
    "obs = np.array([observation[0], observation[2]])\n",
    "print(min_obs_values, max_obs_values)\n",
    "print(obs)\n",
    "discrete_obs = (obs - min_obs_values)/discrete_obs_space_step_size\n",
    "discrete_obs"
   ]
  },
  {
   "cell_type": "code",
   "execution_count": 97,
   "metadata": {},
   "outputs": [
    {
     "name": "stdout",
     "output_type": "stream",
     "text": [
      "(10, 11) [0.012366204, 0.033264622]\n",
      "(10, 11) [0.016731903, 0.027036322]\n",
      "(10, 10) [0.024990257, 0.0151678305]\n",
      "(10, 10) [0.029338812, 0.009320844]\n",
      "(10, 10) [0.029780673, 0.009422412]\n",
      "(10, 10) [0.026317444, 0.015436164]\n",
      "(10, 11) [0.018949116, 0.027362708]\n",
      "(10, 12) [0.007674098, 0.04523935]\n",
      "(10, 12) [0.00029388725, 0.057436842]\n",
      "(9, 13) [-0.0031970965, 0.06407238]\n",
      "(9, 13) [-0.002802893, 0.065227285]\n",
      "(9, 13) [-0.0063282764, 0.072625995]\n",
      "(9, 13) [-0.0059709097, 0.07459623]\n",
      "(9, 13) [-0.0017333432, 0.07118818]\n",
      "(10, 12) [0.0063838107, 0.062415145]\n",
      "(10, 12) [0.010579894, 0.059927057]\n",
      "(10, 13) [0.0108568175, 0.06367302]\n",
      "(10, 13) [0.007215223, 0.07363837]\n",
      "(9, 14) [-0.00034555505, 0.089844726]\n",
      "(9, 15) [-0.011827322, 0.112349235]\n",
      "(9, 16) [-0.027232632, 0.14124289]\n",
      "(9, 17) [-0.03876645, 0.16502514]\n",
      "(9, 18) [-0.046439525, 0.18390171]\n",
      "(9, 19) [-0.050261386, 0.19804588]\n",
      "(9, 19) [-0.05023999, 0.20759764]\n",
      "(9, 20) [-0.05416432, 0.2241092]\n"
     ]
    }
   ],
   "source": [
    "for e in range(num_episodes):\n",
    "    observation, info = env.reset()\n",
    "    current_obs = discretizer(observation) \n",
    "    done = False; score = 0\n",
    "    while not done:\n",
    "        action = np.argmax(q_table[current_obs])\n",
    "        if EXPLORATION_RATE > np.random.random():\n",
    "             action = env.action_space.sample() \n",
    "        observation, reward, done, _, _ = env.step(action)\n",
    "        new_obs = discretizer(observation)\n",
    "        print(new_obs, [observation[0],observation[2]])\n",
    "\n",
    "# cart position is not really changing much for random actions, maybe i should use all the observations\n"
   ]
  },
  {
   "cell_type": "code",
   "execution_count": null,
   "metadata": {},
   "outputs": [],
   "source": []
  }
 ],
 "metadata": {
  "kernelspec": {
   "display_name": "Python 3 (ipykernel)",
   "language": "python",
   "name": "python3"
  },
  "language_info": {
   "codemirror_mode": {
    "name": "ipython",
    "version": 3
   },
   "file_extension": ".py",
   "mimetype": "text/x-python",
   "name": "python",
   "nbconvert_exporter": "python",
   "pygments_lexer": "ipython3",
   "version": "3.11.6"
  }
 },
 "nbformat": 4,
 "nbformat_minor": 4
}
